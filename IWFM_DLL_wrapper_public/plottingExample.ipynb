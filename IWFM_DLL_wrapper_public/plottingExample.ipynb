{
 "cells": [
  {
   "cell_type": "code",
   "execution_count": null,
   "metadata": {},
   "outputs": [],
   "source": [
    "from DLL_shortcuts import *\n",
    "from customRead_functions import *\n",
    "from customPlot_functions import *"
   ]
  },
  {
   "cell_type": "markdown",
   "metadata": {},
   "source": [
    "# Plotting Output Data"
   ]
  },
  {
   "cell_type": "code",
   "execution_count": null,
   "metadata": {},
   "outputs": [],
   "source": [
    "verboseBool = True\n",
    "# subRegion_list = range(1,23)\n",
    "subRegion_list = [1, 15, 22]\n",
    "# subRegion_list = ['all']\n",
    "\n",
    "\n",
    "# name of at least on the model scenaris\n",
    "scenario_list = ['c2vsimfg_version1.01']\n",
    "\n",
    "# names of the model scenarios (will be used in legend)\n",
    "label_list = ['C2VSimFG Baseline Simulation Period']\n",
    "\n",
    "# all possible budget types, here for reference\n",
    "budType_list = ['GROUNDWATER BUDGET',\n",
    "           'LAND AND WATER USE BUDGET',\n",
    "           'ROOT ZONE MOISTURE BUDGET',\n",
    "           'STREAM FLOW BUDGET',\n",
    "           'SMALL WATERSHED FLOW COMPONENTS',\n",
    "           'UNSATURATED ZONE BUDGET']\n",
    "\n",
    "# Specify budget type by index of budType_list or by name\n",
    "## For example, next two lines of code do the same thing\n",
    "budType = budType_list[0]\n",
    "# budType = 'GROUNDWATER BUDGET'\n",
    "\n",
    "\n",
    "# for each budType, all possible budItems will print after the plot to help explore the options\n",
    "# here are some examples from the groundwater budget\n",
    "budItem = 'Beginning Storage (+)'\n",
    "# budItem = 'Gain from Stream (+)'\n",
    "# budItem = 'Pumping (-)'\n",
    "\n",
    "plot_budItem_for_SubregionList_multiScenario(budType,\n",
    "                                             budItem,\n",
    "                                             scenario_list,\n",
    "                                             label_list, \n",
    "                                             subRegion_list,\n",
    "                                             verboseBool)\n"
   ]
  }
 ],
 "metadata": {
  "kernelspec": {
   "display_name": "Python 3",
   "language": "python",
   "name": "python3"
  },
  "language_info": {
   "codemirror_mode": {
    "name": "ipython",
    "version": 3
   },
   "file_extension": ".py",
   "mimetype": "text/x-python",
   "name": "python",
   "nbconvert_exporter": "python",
   "pygments_lexer": "ipython3",
   "version": "3.8.5"
  }
 },
 "nbformat": 4,
 "nbformat_minor": 4
}
