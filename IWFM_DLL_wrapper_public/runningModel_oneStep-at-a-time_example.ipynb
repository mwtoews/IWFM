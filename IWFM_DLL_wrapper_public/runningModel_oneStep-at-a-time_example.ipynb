{
 "cells": [
  {
   "cell_type": "code",
   "execution_count": null,
   "metadata": {},
   "outputs": [],
   "source": [
    "from DLL_shortcuts import *\n",
    "from customRead_functions import *\n",
    "from customPlot_functions import *\n",
    "\n",
    "IW_SetLogFile()"
   ]
  },
  {
   "cell_type": "markdown",
   "metadata": {},
   "source": [
    "# Running model one step at a time"
   ]
  },
  {
   "cell_type": "code",
   "execution_count": null,
   "metadata": {},
   "outputs": [],
   "source": [
    "modelScenario_name = 'c2vsimfg_version1.01'\n",
    "iIsForInquiry = 0"
   ]
  },
  {
   "cell_type": "code",
   "execution_count": null,
   "metadata": {},
   "outputs": [],
   "source": [
    "# This step takes several minutes\n",
    "IW_Model_New(modelScenario_name, iIsForInquiry)"
   ]
  },
  {
   "cell_type": "code",
   "execution_count": null,
   "metadata": {},
   "outputs": [],
   "source": [
    "# Note that running the model one step at a time is much slower than running it using the exe files\n",
    "# for C2VSim v 1.01, expect this to take several hours\n",
    "while IW_Model_IsEndOfSimulation() == False:\n",
    "    IW_Model_AdvanceTime()\n",
    "    # modify data using results from copupled model here (e.g. diversion or landuse data)\n",
    "    IW_Model_ReadTSData()\n",
    "    print(\"Simulating \", IW_Model_GetCurrentDateAndTime())\n",
    "    IW_Model_SimulateForOneTimeStep()\n",
    "    IW_Model_PrintResults()\n",
    "    if IW_Model_IsEndOfSimulation() == False:\n",
    "        IW_Model_AdvanceState()    \n",
    "\n"
   ]
  },
  {
   "cell_type": "code",
   "execution_count": null,
   "metadata": {},
   "outputs": [],
   "source": [
    "IW_Model_IsEndOfSimulation()"
   ]
  },
  {
   "cell_type": "code",
   "execution_count": null,
   "metadata": {},
   "outputs": [],
   "source": [
    "IW_Model_Kill()"
   ]
  }
 ],
 "metadata": {
  "kernelspec": {
   "display_name": "Python 3",
   "language": "python",
   "name": "python3"
  },
  "language_info": {
   "codemirror_mode": {
    "name": "ipython",
    "version": 3
   },
   "file_extension": ".py",
   "mimetype": "text/x-python",
   "name": "python",
   "nbconvert_exporter": "python",
   "pygments_lexer": "ipython3",
   "version": "3.8.5"
  }
 },
 "nbformat": 4,
 "nbformat_minor": 4
}
